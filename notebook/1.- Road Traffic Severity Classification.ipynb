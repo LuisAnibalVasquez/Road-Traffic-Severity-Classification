{
 "cells": [
  {
   "cell_type": "markdown",
   "id": "5af34dce-c6cf-4001-9b22-1f95a55855a8",
   "metadata": {
    "tags": []
   },
   "source": [
    "## Project 1: Road Traffic Severity Classification"
   ]
  },
  {
   "cell_type": "code",
   "execution_count": null,
   "id": "e410c51d-dc01-48b2-8650-4b09933649c9",
   "metadata": {},
   "outputs": [],
   "source": [
    "import pandas as pd\n",
    "\n",
    "from sklearn.ensemble import ExtraTreesClassifier\n",
    "from mlxtend.evaluate import bias_variance_decomp"
   ]
  },
  {
   "cell_type": "code",
   "execution_count": null,
   "id": "983f6bb6-f6d4-4c64-aafb-b646d24276bd",
   "metadata": {},
   "outputs": [],
   "source": [
    "pd.set_option('display.max_columns', None)\n",
    "pd.set_option('display.max_rows', None)"
   ]
  },
  {
   "cell_type": "code",
   "execution_count": null,
   "id": "c46c8f9e-cc43-4c81-a2a9-799f37bd376d",
   "metadata": {},
   "outputs": [],
   "source": [
    "df=pd.read_csv('../data/raw/RTA Dataset.csv')"
   ]
  },
  {
   "cell_type": "markdown",
   "id": "d7c56659-c7de-4435-9454-360ad713a5a0",
   "metadata": {
    "tags": []
   },
   "source": [
    "# **** EDA ****"
   ]
  },
  {
   "cell_type": "code",
   "execution_count": null,
   "id": "8eae46cf-1824-4c34-b973-2e17a3370612",
   "metadata": {},
   "outputs": [],
   "source": [
    "df.head()"
   ]
  },
  {
   "cell_type": "code",
   "execution_count": null,
   "id": "e3a26fe1-a14f-45d7-ac8d-3398090d9aea",
   "metadata": {},
   "outputs": [],
   "source": [
    "df.shape"
   ]
  },
  {
   "cell_type": "code",
   "execution_count": null,
   "id": "9fbbfb7a-2b7c-4c4f-b240-8323ecc95877",
   "metadata": {},
   "outputs": [],
   "source": [
    "df.columns"
   ]
  },
  {
   "cell_type": "code",
   "execution_count": null,
   "id": "39d9ce35-1353-4fa0-a382-869335b8436d",
   "metadata": {},
   "outputs": [],
   "source": [
    "df.dtypes"
   ]
  },
  {
   "cell_type": "code",
   "execution_count": null,
   "id": "81b6e219",
   "metadata": {},
   "outputs": [],
   "source": [
    "df.info()"
   ]
  },
  {
   "cell_type": "code",
   "execution_count": null,
   "id": "205dc24b-646c-457c-8904-3052599a08c2",
   "metadata": {},
   "outputs": [],
   "source": [
    "df.isnull().sum()"
   ]
  },
  {
   "cell_type": "code",
   "execution_count": null,
   "id": "2bd0657c-93d6-47bb-aa64-d1828800fe77",
   "metadata": {},
   "outputs": [],
   "source": [
    "df.duplicated().sum()"
   ]
  },
  {
   "cell_type": "markdown",
   "id": "5f057b80-371b-467c-91c5-befe6759fbdd",
   "metadata": {},
   "source": [
    "### A bit of descriptive statistics"
   ]
  },
  {
   "cell_type": "code",
   "execution_count": null,
   "id": "a37eef35-fa6e-425c-874c-c3f76a6a0dc0",
   "metadata": {},
   "outputs": [],
   "source": [
    "df.describe()"
   ]
  },
  {
   "cell_type": "code",
   "execution_count": null,
   "id": "016627d3-6457-4e86-a0d5-af4a40655fc5",
   "metadata": {},
   "outputs": [],
   "source": [
    "df.describe(include=\"all\")"
   ]
  },
  {
   "cell_type": "markdown",
   "id": "013f6ac2-45b0-4fa7-93e7-d16e4b15651c",
   "metadata": {},
   "source": [
    "### Now some graphs"
   ]
  },
  {
   "cell_type": "code",
   "execution_count": null,
   "id": "6a123e64-754e-4534-9578-d5a8c9b3d11f",
   "metadata": {},
   "outputs": [],
   "source": [
    "import matplotlib.pyplot as plt\n",
    "import seaborn as sns"
   ]
  },
  {
   "cell_type": "markdown",
   "id": "43e057fb",
   "metadata": {},
   "source": [
    "We verify the target variable"
   ]
  },
  {
   "cell_type": "code",
   "execution_count": null,
   "id": "ddbea82c-4556-4016-85e5-6746433f8a7d",
   "metadata": {},
   "outputs": [],
   "source": [
    "df['Accident_severity'].value_counts()"
   ]
  },
  {
   "cell_type": "code",
   "execution_count": null,
   "id": "378cc1bc-3aa5-405c-92b3-43aa34f74416",
   "metadata": {},
   "outputs": [],
   "source": [
    "sns.barplot(x=df['Accident_severity'].value_counts().index,\n",
    "            y=df['Accident_severity'].value_counts().values)\n",
    "plt.show()"
   ]
  },
  {
   "cell_type": "code",
   "execution_count": null,
   "id": "b57e4c4e-fbf7-4b02-82ef-09be773be919",
   "metadata": {},
   "outputs": [],
   "source": [
    "import missingno as mi"
   ]
  },
  {
   "cell_type": "code",
   "execution_count": null,
   "id": "560ab953",
   "metadata": {},
   "outputs": [],
   "source": [
    "mi.bar(df)"
   ]
  },
  {
   "cell_type": "code",
   "execution_count": null,
   "id": "68c786fa",
   "metadata": {},
   "outputs": [],
   "source": [
    "mi.matrix(df)"
   ]
  },
  {
   "cell_type": "markdown",
   "id": "31834214",
   "metadata": {},
   "source": [
    "# **** PREPROCESSING ****"
   ]
  },
  {
   "cell_type": "markdown",
   "id": "866cb382",
   "metadata": {},
   "source": [
    "Para los faltantes aplicaremos un SimpleImputer "
   ]
  },
  {
   "cell_type": "code",
   "execution_count": null,
   "id": "8bc811a1",
   "metadata": {},
   "outputs": [],
   "source": [
    "import numpy as np\n",
    "from sklearn.impute import SimpleImputer"
   ]
  },
  {
   "cell_type": "markdown",
   "id": "06449b5b",
   "metadata": {},
   "source": [
    "We impute the null values of the columns"
   ]
  },
  {
   "cell_type": "code",
   "execution_count": null,
   "id": "abf9a0aa",
   "metadata": {},
   "outputs": [],
   "source": [
    "df['Educational_level'].replace({np.nan : pd.NA})\n",
    "df['Vehicle_driver_relation'].replace({np.nan : pd.NA})\n",
    "df['Driving_experience'].replace({np.nan : pd.NA})\n",
    "df['Type_of_vehicle'].replace({np.nan : pd.NA})\n",
    "df['Owner_of_vehicle'].replace({np.nan : pd.NA})\n",
    "df['Area_accident_occured'].replace({np.nan : pd.NA})\n",
    "df['Lanes_or_Medians'].replace({np.nan : pd.NA})\n",
    "df['Road_allignment'].replace({np.nan : pd.NA})\n",
    "df['Types_of_Junction'].replace({np.nan : pd.NA})\n",
    "df['Road_surface_type'].replace({np.nan : pd.NA})\n",
    "df['Type_of_collision'].replace({np.nan : pd.NA})\n",
    "df['Vehicle_movement'].replace({np.nan : pd.NA})"
   ]
  },
  {
   "cell_type": "code",
   "execution_count": null,
   "id": "724ad1a7",
   "metadata": {},
   "outputs": [],
   "source": [
    "impute_mode = SimpleImputer(strategy = 'most_frequent', missing_values=pd.NA)"
   ]
  },
  {
   "cell_type": "code",
   "execution_count": null,
   "id": "0213942b",
   "metadata": {},
   "outputs": [],
   "source": [
    "impute_mode.fit(df[['Educational_level',\n",
    "                    'Vehicle_driver_relation',\n",
    "                    'Driving_experience',\n",
    "                    'Type_of_vehicle',\n",
    "                    'Owner_of_vehicle',\n",
    "                    'Area_accident_occured',\n",
    "                    'Lanes_or_Medians',\n",
    "                    'Road_allignment',\n",
    "                    'Types_of_Junction',\n",
    "                    'Road_surface_type',\n",
    "                    'Type_of_collision',\n",
    "                    'Vehicle_movement']])\n",
    "\n",
    "df[['Educational_level',\n",
    "                    'Vehicle_driver_relation',\n",
    "                    'Driving_experience',\n",
    "                    'Type_of_vehicle',\n",
    "                    'Owner_of_vehicle',\n",
    "                    'Area_accident_occured',\n",
    "                    'Lanes_or_Medians',\n",
    "                    'Road_allignment',\n",
    "                    'Types_of_Junction',\n",
    "                    'Road_surface_type',\n",
    "                    'Type_of_collision',\n",
    "                    'Vehicle_movement']] = impute_mode.transform(df[['Educational_level',\n",
    "                                            'Vehicle_driver_relation',\n",
    "                                            'Driving_experience',\n",
    "                                            'Type_of_vehicle',\n",
    "                                            'Owner_of_vehicle',\n",
    "                                            'Area_accident_occured',\n",
    "                                            'Lanes_or_Medians',\n",
    "                                            'Road_allignment',\n",
    "                                            'Types_of_Junction',\n",
    "                                            'Road_surface_type',\n",
    "                                            'Type_of_collision',\n",
    "                                            'Vehicle_movement']])"
   ]
  },
  {
   "cell_type": "code",
   "execution_count": null,
   "id": "730e8bcd",
   "metadata": {},
   "outputs": [],
   "source": [
    "df['Service_year_of_vehicle'].replace({np.nan : pd.NA})\n",
    "df['Defect_of_vehicle'].replace({np.nan : pd.NA})\n",
    "df['Work_of_casuality'].replace({np.nan : pd.NA})\n",
    "df['Fitness_of_casuality'].replace({np.nan : pd.NA})"
   ]
  },
  {
   "cell_type": "code",
   "execution_count": null,
   "id": "cd69ba54",
   "metadata": {},
   "outputs": [],
   "source": [
    "impute_mode.fit(df[['Service_year_of_vehicle',\n",
    "                    'Defect_of_vehicle',\n",
    "                    'Work_of_casuality',\n",
    "                    'Fitness_of_casuality']])\n",
    "\n",
    "df[['Service_year_of_vehicle',\n",
    "                    'Defect_of_vehicle',\n",
    "                    'Work_of_casuality',\n",
    "                    'Fitness_of_casuality']] = impute_mode.transform(df[['Service_year_of_vehicle',\n",
    "                                            'Defect_of_vehicle',\n",
    "                                            'Work_of_casuality',\n",
    "                                            'Fitness_of_casuality']])"
   ]
  },
  {
   "cell_type": "code",
   "execution_count": null,
   "id": "36afc231",
   "metadata": {},
   "outputs": [],
   "source": [
    "impute_mode = SimpleImputer(strategy = 'most_frequent', missing_values='na')\n",
    "impute_mode.fit(df[['Casualty_class','Sex_of_casualty','Age_band_of_casualty', 'Casualty_severity']])\n",
    "df[['Casualty_class',\n",
    "    'Sex_of_casualty',\n",
    "    'Age_band_of_casualty', \n",
    "    'Casualty_severity']] = impute_mode.transform(df[['Casualty_class',\n",
    "                                                      'Sex_of_casualty',\n",
    "                                                      'Age_band_of_casualty',\n",
    "                                                      'Casualty_severity']])"
   ]
  },
  {
   "cell_type": "markdown",
   "id": "b63d6464",
   "metadata": {},
   "source": [
    "Now we will work with the transformation of categorical data to numbers"
   ]
  },
  {
   "cell_type": "code",
   "execution_count": null,
   "id": "94e8f133",
   "metadata": {},
   "outputs": [],
   "source": [
    "df.sample(10)"
   ]
  },
  {
   "cell_type": "code",
   "execution_count": null,
   "id": "f39981b1",
   "metadata": {},
   "outputs": [],
   "source": [
    "# una rapida transofrmacion de tipo de dato\n",
    "df['Casualty_severity'] = df['Casualty_severity'].astype('int64')"
   ]
  },
  {
   "cell_type": "markdown",
   "id": "a696eb20",
   "metadata": {},
   "source": [
    "Now LabelEncoder"
   ]
  },
  {
   "cell_type": "code",
   "execution_count": null,
   "id": "5bbde666",
   "metadata": {},
   "outputs": [],
   "source": [
    "from sklearn.preprocessing import LabelEncoder"
   ]
  },
  {
   "cell_type": "code",
   "execution_count": null,
   "id": "fc11a64c",
   "metadata": {},
   "outputs": [],
   "source": [
    "df['TEMP_Day_of_week']=LabelEncoder().fit_transform(df.Day_of_week)\n",
    "df['TEMP_Age_band_of_driver']=LabelEncoder().fit_transform(df.Age_band_of_driver)\n",
    "df['TEMP_Educational_level']=LabelEncoder().fit_transform(df.Educational_level )\n",
    "df['TEMP_Vehicle_driver_relation']=LabelEncoder().fit_transform(df.Vehicle_driver_relation )\n",
    "df['TEMP_Driving_experience']=LabelEncoder().fit_transform(df.Driving_experience )\n",
    "df['TEMP_Type_of_vehicle']=LabelEncoder().fit_transform(df.Type_of_vehicle )\n",
    "df['TEMP_Owner_of_vehicle']=LabelEncoder().fit_transform(df.Owner_of_vehicle )\n",
    "df['TEMP_Service_year_of_vehicle']=LabelEncoder().fit_transform(df.Service_year_of_vehicle )\n",
    "df['TEMP_Defect_of_vehicle']=LabelEncoder().fit_transform(df.Defect_of_vehicle )\n",
    "df['TEMP_Area_accident_occured']=LabelEncoder().fit_transform(df.Area_accident_occured )\n",
    "df['TEMP_Lanes_or_Medians']=LabelEncoder().fit_transform(df.Lanes_or_Medians )\n",
    "df['TEMP_Road_allignment']=LabelEncoder().fit_transform(df.Road_allignment )\n",
    "df['TEMP_Types_of_Junction']=LabelEncoder().fit_transform(df.Types_of_Junction )\n",
    "df['TEMP_Road_surface_type']=LabelEncoder().fit_transform(df.Road_surface_type )\n",
    "df['TEMP_Road_surface_conditions']=LabelEncoder().fit_transform(df.Road_surface_conditions )\n",
    "df['TEMP_Light_conditions']=LabelEncoder().fit_transform(df.Light_conditions )\n",
    "df['TEMP_Weather_conditions']=LabelEncoder().fit_transform(df.Weather_conditions )\n",
    "df['TEMP_Type_of_collision']=LabelEncoder().fit_transform(df.Type_of_collision)\n",
    "df['TEMP_Vehicle_movement']=LabelEncoder().fit_transform(df.Vehicle_movement )\n",
    "df['TEMP_Casualty_class']=LabelEncoder().fit_transform(df.Casualty_class)\n",
    "df['TEMP_Age_band_of_casualty']=LabelEncoder().fit_transform(df.Age_band_of_casualty)\n",
    "df['TEMP_Work_of_casuality']=LabelEncoder().fit_transform(df.Work_of_casuality )\n",
    "df['TEMP_Fitness_of_casuality']=LabelEncoder().fit_transform(df.Fitness_of_casuality )\n",
    "df['TEMP_Pedestrian_movement']=LabelEncoder().fit_transform(df.Pedestrian_movement )\n",
    "df['TEMP_Cause_of_accident']=LabelEncoder().fit_transform(df.Cause_of_accident)"
   ]
  },
  {
   "cell_type": "markdown",
   "id": "9854bb1a",
   "metadata": {},
   "source": [
    "OneHotEncoder Sex_of_driver and Sex_of_casualty columns"
   ]
  },
  {
   "cell_type": "code",
   "execution_count": null,
   "id": "434e5b61",
   "metadata": {},
   "outputs": [],
   "source": [
    "from sklearn.preprocessing import OneHotEncoder"
   ]
  },
  {
   "cell_type": "code",
   "execution_count": null,
   "id": "0592b783",
   "metadata": {},
   "outputs": [],
   "source": [
    "ohc = OneHotEncoder()\n",
    "ohs1 = ohc.fit_transform(df.Sex_of_driver.values.reshape(-1,1)).toarray()\n",
    "dfs1 = pd.DataFrame(ohs1, columns = [\"Temp_sex_driver_\"+str(ohc.categories_[0][i])\n",
    "                               for i in range(len(ohc.categories_[0]))])\n",
    "df = pd.concat([df, dfs1], axis = 1)                                   "
   ]
  },
  {
   "cell_type": "code",
   "execution_count": null,
   "id": "cd657f6b",
   "metadata": {},
   "outputs": [],
   "source": [
    "ohc2 = OneHotEncoder()\n",
    "ohs2 = ohc2.fit_transform(df.Sex_of_casualty.values.reshape(-1,1)).toarray()\n",
    "dfs2 = pd.DataFrame(ohs2, columns = [\"Temp_sex_casualty_\"+str(ohc2.categories_[0][i])\n",
    "                                for i in range(len(ohc2.categories_[0]))])\n",
    "df = pd.concat([df, dfs2], axis = 1)   "
   ]
  },
  {
   "cell_type": "markdown",
   "id": "83e78caf",
   "metadata": {},
   "source": [
    "The Time column is separated into Hours and Minutes respectively"
   ]
  },
  {
   "cell_type": "code",
   "execution_count": null,
   "id": "de3edd02",
   "metadata": {},
   "outputs": [],
   "source": [
    "df['Time_hour'] = pd.to_datetime(df['Time'], format='%H:%M:%S').dt.hour\n",
    "df['Time_minute'] = pd.to_datetime(df['Time'], format='%H:%M:%S').dt.minute"
   ]
  },
  {
   "cell_type": "code",
   "execution_count": null,
   "id": "0577b24a",
   "metadata": {},
   "outputs": [],
   "source": [
    "df_encoded = df[['Time_hour', 'Time_minute', 'Number_of_vehicles_involved', 'Number_of_casualties','Casualty_severity',\n",
    "                'TEMP_Day_of_week', 'TEMP_Age_band_of_driver', 'TEMP_Educational_level', 'TEMP_Vehicle_driver_relation', \n",
    "               'TEMP_Driving_experience', 'TEMP_Type_of_vehicle', 'TEMP_Owner_of_vehicle', 'TEMP_Service_year_of_vehicle', \n",
    "               'TEMP_Defect_of_vehicle', 'TEMP_Area_accident_occured', 'TEMP_Lanes_or_Medians', 'TEMP_Road_allignment',\n",
    "               'TEMP_Types_of_Junction', 'TEMP_Road_surface_type', 'TEMP_Road_surface_conditions', 'TEMP_Light_conditions', \n",
    "               'TEMP_Weather_conditions', 'TEMP_Type_of_collision', 'TEMP_Vehicle_movement', 'TEMP_Casualty_class', \n",
    "               'TEMP_Age_band_of_casualty', 'TEMP_Work_of_casuality', 'TEMP_Fitness_of_casuality', 'TEMP_Pedestrian_movement', \n",
    "               'TEMP_Cause_of_accident', 'Temp_sex_driver_Female', 'Temp_sex_driver_Male', 'Temp_sex_driver_Unknown', \n",
    "               'Temp_sex_casualty_Female', 'Temp_sex_casualty_Male', 'Accident_severity']].copy()\n",
    "\n",
    "df_encoded.sample(5)"
   ]
  },
  {
   "cell_type": "code",
   "execution_count": null,
   "id": "02ee5d47",
   "metadata": {},
   "outputs": [],
   "source": [
    "df_encoded.dtypes"
   ]
  },
  {
   "cell_type": "markdown",
   "id": "ffcb1131",
   "metadata": {},
   "source": [
    "At this point we have the dataset, without null values and encoded in numeric values"
   ]
  },
  {
   "cell_type": "markdown",
   "id": "20d7e915",
   "metadata": {},
   "source": [
    "Now we are going to work on the imbalance in the classes of the target variable 'Accident_severity'"
   ]
  },
  {
   "cell_type": "code",
   "execution_count": null,
   "id": "5318fbca",
   "metadata": {},
   "outputs": [],
   "source": [
    "import imblearn as il"
   ]
  },
  {
   "cell_type": "code",
   "execution_count": null,
   "id": "1921b5d7",
   "metadata": {},
   "outputs": [],
   "source": [
    "from sklearn.model_selection import train_test_split"
   ]
  },
  {
   "cell_type": "code",
   "execution_count": null,
   "id": "50156b5b",
   "metadata": {},
   "outputs": [],
   "source": [
    "X = df_encoded.iloc[:, :-1]\n",
    "y = df_encoded.iloc[:, -1]"
   ]
  },
  {
   "cell_type": "code",
   "execution_count": null,
   "id": "525472b7",
   "metadata": {},
   "outputs": [],
   "source": [
    "X.shape"
   ]
  },
  {
   "cell_type": "code",
   "execution_count": null,
   "id": "fe5f2b1b",
   "metadata": {},
   "outputs": [],
   "source": [
    "y.shape"
   ]
  },
  {
   "cell_type": "markdown",
   "id": "d126a6f1",
   "metadata": {},
   "source": [
    "SMOTETomek is used to balance the target variable"
   ]
  },
  {
   "cell_type": "code",
   "execution_count": null,
   "id": "d76d2c53",
   "metadata": {},
   "outputs": [],
   "source": [
    "import collections\n",
    "from imblearn.combine import SMOTETomek\n",
    "\n",
    "smote_tomek = SMOTETomek(random_state=0)\n",
    "X_resampled, y_resampled = smote_tomek.fit_resample(X, y)"
   ]
  },
  {
   "cell_type": "code",
   "execution_count": null,
   "id": "7ce42195",
   "metadata": {},
   "outputs": [],
   "source": [
    "y_resampled.shape"
   ]
  },
  {
   "cell_type": "code",
   "execution_count": null,
   "id": "0ea3a973",
   "metadata": {},
   "outputs": [],
   "source": [
    "from sklearn.decomposition import PCA"
   ]
  },
  {
   "cell_type": "code",
   "execution_count": null,
   "id": "4b081bd4",
   "metadata": {},
   "outputs": [],
   "source": [
    "pca = PCA().fit(X_resampled)\n",
    "\n",
    "plt.rcParams[\"figure.figsize\"] = (12,6)\n",
    "\n",
    "fig, ax = plt.subplots()\n",
    "xi = np.arange(1, 36, step=1)\n",
    "y = np.cumsum(pca.explained_variance_ratio_)\n",
    "\n",
    "plt.ylim(0.0,1.1)\n",
    "plt.plot(xi, y, marker='o', linestyle='--', color='b')\n",
    "\n",
    "plt.xlabel('Number of Components')\n",
    "plt.xticks(np.arange(0, 36, step=1)) #change from 0-based array index to 1-based human-readable label\n",
    "plt.ylabel('Cumulative variance (%)')\n",
    "plt.title('The number of components needed to explain variance')\n",
    "\n",
    "plt.axhline(y=0.95, color='r', linestyle='-')\n",
    "plt.text(0.5, 0.85, '95% cut-off threshold', color = 'red', fontsize=16)\n",
    "\n",
    "ax.grid(axis='x')\n",
    "plt.show()"
   ]
  },
  {
   "cell_type": "markdown",
   "id": "ce573943",
   "metadata": {},
   "source": [
    "# **** FEATURE ENGINEERING ****"
   ]
  },
  {
   "cell_type": "code",
   "execution_count": null,
   "id": "a4e555da",
   "metadata": {},
   "outputs": [],
   "source": [
    "from sklearn.feature_selection import SelectKBest\n",
    "from sklearn.feature_selection import f_classif"
   ]
  },
  {
   "cell_type": "markdown",
   "id": "d5c803c7",
   "metadata": {},
   "source": [
    "Since in this project the input is number and the output is categorical, ANOVA F measure via f_classif() function is used to get the best features."
   ]
  },
  {
   "cell_type": "code",
   "execution_count": null,
   "id": "b0aff8bc",
   "metadata": {},
   "outputs": [],
   "source": [
    "#fs = SelectKBest(score_func=f_classif, k='all')\n",
    "#X_selected = fs.fit_transform(X_resampled, y_resampled)\n",
    "#X_selected"
   ]
  },
  {
   "cell_type": "code",
   "execution_count": null,
   "id": "658e2e5d",
   "metadata": {},
   "outputs": [],
   "source": [
    "pcaFinal = PCA(n_components=9)\n",
    "X_selected = pcaFinal.fit_transform(X_resampled)\n",
    "X_selected"
   ]
  },
  {
   "cell_type": "code",
   "execution_count": null,
   "id": "27618fdc",
   "metadata": {},
   "outputs": [],
   "source": [
    "X_selected.shape"
   ]
  },
  {
   "cell_type": "markdown",
   "id": "661eb3c1",
   "metadata": {},
   "source": [
    "# **** MODELING ****"
   ]
  },
  {
   "cell_type": "code",
   "execution_count": null,
   "id": "19b12d87",
   "metadata": {},
   "outputs": [],
   "source": [
    "from sklearn.model_selection import train_test_split\n",
    "from sklearn.ensemble import RandomForestClassifier\n",
    "from sklearn.naive_bayes import GaussianNB\n",
    "from sklearn.neighbors import KNeighborsClassifier\n",
    "from sklearn import tree"
   ]
  },
  {
   "cell_type": "code",
   "execution_count": null,
   "id": "ab4afcea",
   "metadata": {},
   "outputs": [],
   "source": [
    "X_train, X_test, y_train, y_test = train_test_split(X_selected , \n",
    "                                                    y_resampled, \n",
    "                                                    shuffle = True, \n",
    "                                                    test_size=0.2, \n",
    "                                                    random_state=1)"
   ]
  },
  {
   "cell_type": "code",
   "execution_count": null,
   "id": "b8d5edba",
   "metadata": {},
   "outputs": [],
   "source": [
    "X_train.shape"
   ]
  },
  {
   "cell_type": "code",
   "execution_count": null,
   "id": "71571464",
   "metadata": {},
   "outputs": [],
   "source": [
    "y_train.shape"
   ]
  },
  {
   "cell_type": "code",
   "execution_count": null,
   "id": "ede6fcf3",
   "metadata": {},
   "outputs": [],
   "source": [
    "X_test.shape"
   ]
  },
  {
   "cell_type": "code",
   "execution_count": null,
   "id": "e2b8d1e7",
   "metadata": {},
   "outputs": [],
   "source": [
    "y_test.shape"
   ]
  },
  {
   "cell_type": "code",
   "execution_count": null,
   "id": "c77ca956",
   "metadata": {},
   "outputs": [],
   "source": [
    "def check_bias_variance (m, X_train, y_train, X_test, y_test,  r):\n",
    "    avg_expected_loss, avg_bias,avg_var  = bias_variance_decomp(m, \n",
    "                                                                X_train,\n",
    "                                                                y_train.to_numpy(), \n",
    "                                                                X_test,\n",
    "                                                                y_test.to_numpy(), \n",
    "                                                                loss='0-1_loss', \n",
    "                                                                num_rounds=r, \n",
    "                                                                random_seed=1)\n",
    "    print('Bias Variance analisys')\n",
    "    print('Average expected loss: %.3f' % avg_expected_loss)\n",
    "    print('Average bias: %.3f' % avg_bias)\n",
    "    print('Average variance: %.3f' % avg_var ) "
   ]
  },
  {
   "cell_type": "code",
   "execution_count": null,
   "id": "67d8de38",
   "metadata": {},
   "outputs": [],
   "source": [
    "def evaluate_model(model, x_test, y_test):\n",
    "    from sklearn import metrics\n",
    "    y_pred = model.predict(x_test)\n",
    "    f1 = metrics.f1_score(y_test, y_pred, average='micro')\n",
    "    cm = metrics.confusion_matrix(y_test, y_pred)\n",
    "    return {'f1': f1, 'cm': cm}"
   ]
  },
  {
   "cell_type": "code",
   "execution_count": null,
   "id": "4eee7ad2",
   "metadata": {},
   "outputs": [],
   "source": [
    "def generate_model(model, X_train, X_test, y_train, y_test ):\n",
    "    \n",
    "    if model == 'RandomForestClassifier':\n",
    "        rf = RandomForestClassifier(random_state=0)\n",
    "        rf.fit(X_train, y_train)\n",
    "        rf_eval = evaluate_model(rf, X_test, y_test)\n",
    "        print('RandomForestClassifier - F1 Score:', rf_eval['f1'])\n",
    "        print('RandomForestClassifier - CM:', rf_eval['cm'])\n",
    "\n",
    "    if model == 'GaussianNB':\n",
    "            nb = GaussianNB()\n",
    "            nb.fit(X_train, y_train)            \n",
    "            nb_eval = evaluate_model(nb, X_test, y_test)\n",
    "            # Print result\n",
    "            print('GaussianNB - F1 Score:', nb_eval['f1'])\n",
    "\n",
    "    if model == 'KNeighborsClassifier':\n",
    "            knn = KNeighborsClassifier()\n",
    "            knn.fit(X_train, y_train)            \n",
    "            knn_eval = evaluate_model(knn, X_test, y_test)\n",
    "            # Print result\n",
    "            print('KNeighborsClassifier - F1 Score:', knn_eval['f1'])\n",
    "            \n",
    "    if model == 'DecisionTreeClassifier':\n",
    "            dtc = tree.DecisionTreeClassifier(random_state=0)\n",
    "            dtc.fit(X_train, y_train)            \n",
    "            # Evaluate Model\n",
    "            dtc_eval = evaluate_model(dtc, X_test, y_test)\n",
    "            # Print result\n",
    "            print('DecisionTreeClassifier - F1 Score:', dtc_eval['f1'])\n",
    "    if model == 'xtree':\n",
    "            xt = ExtraTreesClassifier()\n",
    "            xt.fit(X_train, y_train)            \n",
    "            # Evaluate Model\n",
    "            dtc_eval = evaluate_model(xt, X_test, y_test)\n",
    "            check_bias_variance (xt, X_train, y_train, X_test, y_test,  5)\n",
    "            # Print result\n",
    "            print('xtree - F1 Score:', dtc_eval['f1'])\n",
    "            print('xtree - CM:', dtc_eval['cm'])\n",
    "            \n",
    "            "
   ]
  },
  {
   "cell_type": "code",
   "execution_count": null,
   "id": "c0cd9808",
   "metadata": {},
   "outputs": [],
   "source": [
    "generate_model('RandomForestClassifier', X_train, X_test, y_train, y_test)"
   ]
  },
  {
   "cell_type": "code",
   "execution_count": null,
   "id": "50eb6b5d",
   "metadata": {},
   "outputs": [],
   "source": [
    "#generate_model('DecisionTreeClassifier', X_train, X_test, y_train, y_test)"
   ]
  },
  {
   "cell_type": "code",
   "execution_count": null,
   "id": "b8b825fc",
   "metadata": {},
   "outputs": [],
   "source": [
    "#generate_model('KNeighborsClassifier', X_train, X_test, y_train, y_test)"
   ]
  },
  {
   "cell_type": "code",
   "execution_count": null,
   "id": "eb79dd5c",
   "metadata": {},
   "outputs": [],
   "source": [
    "#generate_model('GaussianNB', X_train, X_test, y_train, y_test)"
   ]
  },
  {
   "cell_type": "code",
   "execution_count": null,
   "id": "c44d7a80",
   "metadata": {},
   "outputs": [],
   "source": [
    "generate_model('xtree', X_train, X_test, y_train, y_test)"
   ]
  },
  {
   "cell_type": "code",
   "execution_count": null,
   "id": "bfd6498d",
   "metadata": {},
   "outputs": [],
   "source": [
    "check_bias_variance (xt, X_train, y_train, X_test, y_test,  5)"
   ]
  },
  {
   "cell_type": "markdown",
   "id": "d1822a4d",
   "metadata": {},
   "source": [
    "The best model was RandomForestClassifier, this is the one we will take as a base to do the hyperparameter tuning"
   ]
  },
  {
   "cell_type": "markdown",
   "id": "529f346c",
   "metadata": {},
   "source": [
    "A continuacion se hace un Hyperparameter tunning"
   ]
  },
  {
   "cell_type": "code",
   "execution_count": null,
   "id": "89205bea",
   "metadata": {},
   "outputs": [],
   "source": [
    "from sklearn.model_selection import GridSearchCV\n",
    "from sklearn.model_selection import RandomizedSearchCV\n",
    "from sklearn.model_selection import RepeatedStratifiedKFold"
   ]
  },
  {
   "cell_type": "code",
   "execution_count": null,
   "id": "ed72fbcb",
   "metadata": {},
   "outputs": [],
   "source": [
    "# space = dict()\n",
    "# space['max_depth'] = [11,15]\n",
    "# space['min_samples_split'] = [2,3]\n",
    "# space['class_weight'] = ['balanced', None]\n",
    "\n",
    "# model = ExtraTreesClassifier()\n",
    "\n",
    "# cv = RepeatedStratifiedKFold(n_splits=10, n_repeats=3, random_state=1)\n",
    "\n",
    "# search = GridSearchCV(model, space, cv = cv, scoring='f1_micro', n_jobs=-1)\n",
    "\n",
    "# result = search.fit(X_train, y_train)\n",
    "\n",
    "# print(\"Best: %f using %s\" % (result.best_score_, result.best_params_))\n",
    "# means = result.cv_results_['mean_test_score']\n",
    "# stds = result.cv_results_['std_test_score']\n",
    "# params = result.cv_results_['params']\n",
    "# for mean, stdev, param in zip(means, stds, params):\n",
    "#     print(\"%f (%f) with: %r\" % (mean, stdev, param))"
   ]
  },
  {
   "cell_type": "markdown",
   "id": "eeea42da",
   "metadata": {},
   "source": [
    "Here then we define a new model with the same train and test sets but with the hyperparameters found"
   ]
  },
  {
   "cell_type": "code",
   "execution_count": null,
   "id": "343e3a0e",
   "metadata": {},
   "outputs": [],
   "source": [
    "rf = ExtraTreesClassifier(max_depth=15, min_samples_split = 3, class_weight = None)\n",
    "rf.fit(X_train, y_train)"
   ]
  },
  {
   "cell_type": "code",
   "execution_count": null,
   "id": "797e6b64",
   "metadata": {},
   "outputs": [],
   "source": [
    "rf_eval = evaluate_model(rf, X_test, y_test)\n",
    "print('FINAL RandomForestClassifier - F1 Score:', rf_eval['f1'])\n",
    "print('FINAL RandomForestClassifier - Confusion Matrix: ', rf_eval['cm'])"
   ]
  },
  {
   "cell_type": "markdown",
   "id": "566f0558",
   "metadata": {},
   "source": [
    "Here are some graphs related to the feature imprtance and confusion matrix"
   ]
  },
  {
   "cell_type": "code",
   "execution_count": null,
   "id": "0c90df44",
   "metadata": {},
   "outputs": [],
   "source": [
    "importances = rf.feature_importances_\n",
    "indices = np.argsort(importances)\n",
    "features = df_encoded.columns\n",
    "plt.figure(figsize=(20,10))\n",
    "plt.title('Feature Importances')\n",
    "plt.barh(range(len(indices)), importances[indices], color='g', align='center')\n",
    "plt.yticks(range(len(indices)), [features[i] for i in indices])\n",
    "plt.xlabel('Relative Importance')\n",
    "plt.show()"
   ]
  },
  {
   "cell_type": "code",
   "execution_count": null,
   "id": "18b8de76",
   "metadata": {},
   "outputs": [],
   "source": [
    "from sklearn.metrics import ConfusionMatrixDisplay\n",
    "class_names = ['Slight Injury', 'Serious Injury', 'Fata Injury' ]\n",
    "\n",
    "disp = ConfusionMatrixDisplay.from_estimator(\n",
    "        rf,\n",
    "        X_test,\n",
    "        y_test,\n",
    "        display_labels=class_names,\n",
    "        cmap=plt.cm.Blues)"
   ]
  },
  {
   "cell_type": "markdown",
   "id": "3909956e",
   "metadata": {},
   "source": [
    "# **** SHAP ****"
   ]
  },
  {
   "cell_type": "code",
   "execution_count": null,
   "id": "39b3f13d",
   "metadata": {},
   "outputs": [],
   "source": [
    "import shap as sh"
   ]
  },
  {
   "cell_type": "code",
   "execution_count": null,
   "id": "ec204898",
   "metadata": {},
   "outputs": [],
   "source": [
    "data_sample = X_train[:1000]\n",
    "shap_values = sh.TreeExplainer(rf).shap_values(data_sample[:100])\n",
    "y_hat = rf.predict(data_sample)\n",
    "sh.summary_plot(shap_values, data_sample, plot_type=\"bar\")"
   ]
  },
  {
   "cell_type": "markdown",
   "id": "d028b3cf",
   "metadata": {},
   "source": [
    "# **** Save the model to joblib format ****"
   ]
  },
  {
   "cell_type": "code",
   "execution_count": null,
   "id": "6d93c240",
   "metadata": {},
   "outputs": [],
   "source": [
    "#import pickle"
   ]
  },
  {
   "cell_type": "code",
   "execution_count": null,
   "id": "9ba76465",
   "metadata": {},
   "outputs": [],
   "source": [
    "#pickle.dump(rf, open('../models/TrafficSeverityClassificationModel.pkl', 'wb'))"
   ]
  }
 ],
 "metadata": {
  "kernelspec": {
   "display_name": "Python 3 (ipykernel)",
   "language": "python",
   "name": "python3"
  },
  "language_info": {
   "codemirror_mode": {
    "name": "ipython",
    "version": 3
   },
   "file_extension": ".py",
   "mimetype": "text/x-python",
   "name": "python",
   "nbconvert_exporter": "python",
   "pygments_lexer": "ipython3",
   "version": "3.10.11"
  }
 },
 "nbformat": 4,
 "nbformat_minor": 5
}
